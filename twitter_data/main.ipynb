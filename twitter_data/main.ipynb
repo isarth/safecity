{
 "cells": [
  {
   "cell_type": "code",
   "execution_count": 1,
   "metadata": {
    "collapsed": true
   },
   "outputs": [],
   "source": [
    "import numpy as np\n",
    "import matplotlib.pyplot as plt\n",
    "%matplotlib inline \n",
    "import random\n",
    "import seaborn as sns\n",
    "import pandas as pd"
   ]
  },
  {
   "cell_type": "code",
   "execution_count": 2,
   "metadata": {
    "collapsed": false
   },
   "outputs": [],
   "source": [
    "ds=pd.read_csv('latest_tweets.csv',error_bad_lines=False)\n",
    "data=np.array(ds)"
   ]
  },
  {
   "cell_type": "code",
   "execution_count": 3,
   "metadata": {
    "collapsed": false
   },
   "outputs": [
    {
     "data": {
      "text/html": [
       "<div>\n",
       "<table border=\"1\" class=\"dataframe\">\n",
       "  <thead>\n",
       "    <tr style=\"text-align: right;\">\n",
       "      <th></th>\n",
       "      <th>tweet</th>\n",
       "      <th>user_name</th>\n",
       "      <th>country</th>\n",
       "      <th>user_location</th>\n",
       "      <th>language</th>\n",
       "    </tr>\n",
       "  </thead>\n",
       "  <tbody>\n",
       "    <tr>\n",
       "      <th>0</th>\n",
       "      <td>i liked a video amber rose claims she was cons...</td>\n",
       "      <td>LY NoStress</td>\n",
       "      <td>NONE</td>\n",
       "      <td>NONE</td>\n",
       "      <td>en</td>\n",
       "    </tr>\n",
       "    <tr>\n",
       "      <th>1</th>\n",
       "      <td>this situation around coutinho is just embarra...</td>\n",
       "      <td>David</td>\n",
       "      <td>NONE</td>\n",
       "      <td>NONE</td>\n",
       "      <td>en</td>\n",
       "    </tr>\n",
       "    <tr>\n",
       "      <th>2</th>\n",
       "      <td>evidence hacked theresistance trumprussia russ...</td>\n",
       "      <td></td>\n",
       "      <td>NONE</td>\n",
       "      <td>USA</td>\n",
       "      <td>en</td>\n",
       "    </tr>\n",
       "    <tr>\n",
       "      <th>3</th>\n",
       "      <td>like sorry an abused woman at the hands of a m...</td>\n",
       "      <td>hales</td>\n",
       "      <td>United States</td>\n",
       "      <td>USA</td>\n",
       "      <td>en</td>\n",
       "    </tr>\n",
       "    <tr>\n",
       "      <th>4</th>\n",
       "      <td>find it funny when you see lads who get bullie...</td>\n",
       "      <td>Louis Ralston</td>\n",
       "      <td>United Kingdom</td>\n",
       "      <td>UK</td>\n",
       "      <td>en</td>\n",
       "    </tr>\n",
       "  </tbody>\n",
       "</table>\n",
       "</div>"
      ],
      "text/plain": [
       "                                               tweet      user_name  \\\n",
       "0  i liked a video amber rose claims she was cons...    LY NoStress   \n",
       "1  this situation around coutinho is just embarra...          David   \n",
       "2  evidence hacked theresistance trumprussia russ...                  \n",
       "3  like sorry an abused woman at the hands of a m...         hales    \n",
       "4  find it funny when you see lads who get bullie...  Louis Ralston   \n",
       "\n",
       "          country user_location language  \n",
       "0            NONE          NONE       en  \n",
       "1            NONE          NONE       en  \n",
       "2            NONE           USA       en  \n",
       "3   United States           USA       en  \n",
       "4  United Kingdom            UK       en  "
      ]
     },
     "execution_count": 3,
     "metadata": {},
     "output_type": "execute_result"
    }
   ],
   "source": [
    "ds.head()"
   ]
  },
  {
   "cell_type": "code",
   "execution_count": 5,
   "metadata": {
    "collapsed": false
   },
   "outputs": [
    {
     "data": {
      "text/html": [
       "<div>\n",
       "<table border=\"1\" class=\"dataframe\">\n",
       "  <thead>\n",
       "    <tr style=\"text-align: right;\">\n",
       "      <th></th>\n",
       "      <th>tweet</th>\n",
       "      <th>user_name</th>\n",
       "      <th>country</th>\n",
       "      <th>user_location</th>\n",
       "      <th>language</th>\n",
       "    </tr>\n",
       "  </thead>\n",
       "  <tbody>\n",
       "    <tr>\n",
       "      <th>0</th>\n",
       "      <td>i liked a video amber rose claims she was cons...</td>\n",
       "      <td>LY NoStress</td>\n",
       "      <td>NONE</td>\n",
       "      <td>NONE</td>\n",
       "      <td>en</td>\n",
       "    </tr>\n",
       "    <tr>\n",
       "      <th>1</th>\n",
       "      <td>this situation around coutinho is just embarra...</td>\n",
       "      <td>David</td>\n",
       "      <td>NONE</td>\n",
       "      <td>NONE</td>\n",
       "      <td>en</td>\n",
       "    </tr>\n",
       "    <tr>\n",
       "      <th>2</th>\n",
       "      <td>evidence hacked theresistance trumprussia russ...</td>\n",
       "      <td></td>\n",
       "      <td>NONE</td>\n",
       "      <td>USA</td>\n",
       "      <td>en</td>\n",
       "    </tr>\n",
       "    <tr>\n",
       "      <th>3</th>\n",
       "      <td>like sorry an abused woman at the hands of a m...</td>\n",
       "      <td>hales</td>\n",
       "      <td>United States</td>\n",
       "      <td>USA</td>\n",
       "      <td>en</td>\n",
       "    </tr>\n",
       "    <tr>\n",
       "      <th>4</th>\n",
       "      <td>find it funny when you see lads who get bullie...</td>\n",
       "      <td>Louis Ralston</td>\n",
       "      <td>United Kingdom</td>\n",
       "      <td>UK</td>\n",
       "      <td>en</td>\n",
       "    </tr>\n",
       "  </tbody>\n",
       "</table>\n",
       "</div>"
      ],
      "text/plain": [
       "                                               tweet      user_name  \\\n",
       "0  i liked a video amber rose claims she was cons...    LY NoStress   \n",
       "1  this situation around coutinho is just embarra...          David   \n",
       "2  evidence hacked theresistance trumprussia russ...                  \n",
       "3  like sorry an abused woman at the hands of a m...         hales    \n",
       "4  find it funny when you see lads who get bullie...  Louis Ralston   \n",
       "\n",
       "          country user_location language  \n",
       "0            NONE          NONE       en  \n",
       "1            NONE          NONE       en  \n",
       "2            NONE           USA       en  \n",
       "3   United States           USA       en  \n",
       "4  United Kingdom            UK       en  "
      ]
     },
     "execution_count": 5,
     "metadata": {},
     "output_type": "execute_result"
    }
   ],
   "source": [
    "a=pd.read_csv('latest_tweets.csv')\n",
    "a.head()"
   ]
  },
  {
   "cell_type": "code",
   "execution_count": 6,
   "metadata": {
    "collapsed": false,
    "scrolled": true
   },
   "outputs": [],
   "source": [
    "a=ds\n",
    "temp=a['user_location'].value_counts()"
   ]
  },
  {
   "cell_type": "code",
   "execution_count": 7,
   "metadata": {
    "collapsed": false,
    "scrolled": false
   },
   "outputs": [
    {
     "name": "stdout",
     "output_type": "stream",
     "text": [
      "NONE            255\n",
      "USA             164\n",
      "UK               38\n",
      "Canada            9\n",
      "India             7\n",
      "Australia         6\n",
      "Nigeria           5\n",
      "South Africa      5\n",
      "Ireland           3\n",
      "Scotland          3\n",
      "New Zealand       2\n",
      "Malaysia          2\n",
      "Spain             2\n",
      "Singapore         2\n",
      "Kenya             1\n",
      "Chile             1\n",
      "Saudi Arabia      1\n",
      "Jordon            1\n",
      "Switzerland       1\n",
      "Belgium           1\n",
      "Norway            1\n",
      "Mexico            1\n",
      "Germany           1\n",
      "UK                1\n",
      "Name: user_location, dtype: int64\n"
     ]
    }
   ],
   "source": [
    "print temp"
   ]
  },
  {
   "cell_type": "code",
   "execution_count": null,
   "metadata": {
    "collapsed": true
   },
   "outputs": [],
   "source": [
    "plt.savefig?"
   ]
  },
  {
   "cell_type": "code",
   "execution_count": null,
   "metadata": {
    "collapsed": true
   },
   "outputs": [],
   "source": []
  },
  {
   "cell_type": "code",
   "execution_count": 8,
   "metadata": {
    "collapsed": false,
    "scrolled": false
   },
   "outputs": [
    {
     "data": {
      "image/png": "[encoded data removed]",
      "text/plain": [
       "<matplotlib.figure.Figure at 0x10f3a8b50>"
      ]
     },
     "metadata": {},
     "output_type": "display_data"
    }
   ],
   "source": [
    "x=[]\n",
    "y=[]\n",
    "for ix in temp.get_values():\n",
    "    for j in range(len(temp[temp==ix].index)):\n",
    "        x.append(temp[temp==ix].index[j])\n",
    "        y.append(ix)\n",
    "f, ax = plt.subplots(figsize=(10, 10))\n",
    "sns.barplot(y,x,palette=\"RdBu_r\")\n",
    "plt.title('Tweets related to harrassment countrywise')\n",
    "plt.savefig('country.png')\n",
    "plt.show()"
   ]
  },
  {
   "cell_type": "code",
   "execution_count": null,
   "metadata": {
    "collapsed": true
   },
   "outputs": [],
   "source": [
    "from nltk.sentiment.vader import SentimentIntensityAnalyzer as SIA\n",
    "sid=SIA()"
   ]
  },
  {
   "cell_type": "code",
   "execution_count": null,
   "metadata": {
    "collapsed": false,
    "scrolled": true
   },
   "outputs": [],
   "source": [
    "neg_count=0\n",
    "pos_count=0\n",
    "neu_count=0\n",
    "senti=[]\n",
    "for i in range(513):\n",
    "    temp=sid.polarity_scores(a['tweet'][i])\n",
    "    if(temp['neg']>temp['pos'] and temp['neg']>temp['neu']):\n",
    "        neg_count+=1\n",
    "        senti.append('neg')\n",
    "    if(temp['pos']>temp['neg'] and temp['pos']>temp['neu']):\n",
    "        pos_count+=1\n",
    "        senti.append('pos')\n",
    "    if(temp['neu']>temp['neg'] and temp['neu']>temp['pos']):\n",
    "        neu_count+=1\n",
    "        senti.append('neu')"
   ]
  },
  {
   "cell_type": "code",
   "execution_count": null,
   "metadata": {
    "collapsed": false,
    "scrolled": true
   },
   "outputs": [],
   "source": [
    "print 'Neg : ',neg_count,\"  Perc : \",(neg_count/5.13),'%'\n",
    "print 'Pos : ',pos_count,\"   Perc : \",(pos_count/5.13),'%'\n",
    "print 'Neu : ',neu_count,\" Perc : \",(neu_count/5.13),'%'"
   ]
  },
  {
   "cell_type": "code",
   "execution_count": null,
   "metadata": {
    "collapsed": false
   },
   "outputs": [],
   "source": [
    "sentiment=[pos_count,neg_count,neu_count]\n",
    "sns.barplot(['positive','negitive','neutral'],sentiment)\n",
    "plt.title('Sentiment ananlysis of all Tweets')\n",
    "plt.show()"
   ]
  }
 ],
 "metadata": {
  "anaconda-cloud": {},
  "kernelspec": {
   "display_name": "Python [default]",
   "language": "python",
   "name": "python2"
  },
  "language_info": {
   "codemirror_mode": {
    "name": "ipython",
    "version": 2
   },
   "file_extension": ".py",
   "mimetype": "text/x-python",
   "name": "python",
   "nbconvert_exporter": "python",
   "pygments_lexer": "ipython2",
   "version": "2.7.12"
  }
 },
 "nbformat": 4,
 "nbformat_minor": 2
}
