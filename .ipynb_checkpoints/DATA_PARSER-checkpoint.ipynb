{
 "cells": [
  {
   "cell_type": "code",
   "execution_count": 1,
   "metadata": {
    "collapsed": true
   },
   "outputs": [],
   "source": [
    "from pyPdf import PdfFileReader\n",
    "\n",
    "f = open('./data/2014.pdf', 'rb')\n",
    "reader = PdfFileReader(f)\n",
    "contents = reader.getPage(5).extractText().split('\\n')\n",
    "f.close()"
   ]
  },
  {
   "cell_type": "code",
   "execution_count": null,
   "metadata": {
    "collapsed": true
   },
   "outputs": [],
   "source": []
  },
  {
   "cell_type": "code",
   "execution_count": 9,
   "metadata": {
    "collapsed": false
   },
   "outputs": [],
   "source": [
    "table=contents[0][348:-130]"
   ]
  },
  {
   "cell_type": "code",
   "execution_count": 10,
   "metadata": {
    "collapsed": false
   },
   "outputs": [
    {
     "name": "stdout",
     "output_type": "stream",
     "text": [
      "[u'ANDHRA', u'PRADESH', u'266.23', u'7', u'0.03', u'8.54', u'87', u'0.33', u'5.25', u'770', u'2.89', u'6.23', u'2', u'ARUNACHAL', u'PRADESH', u'4.63', u'0', u'0.00', u'0.00', u'0', u'0.00', u'0.00', u'35', u'7.56', u'0.28', u'3', u'ASSAM', u'117.5', u'0', u'0.00', u'0.00', u'14', u'0.12', u'0.84', u'230', u'1.96', u'1.86', u'4', u'BIHAR', u'442.45', u'0', u'0.00', u'0.00', u'101', u'0.23', u'6.10', u'86', u'0.19', u'0.70', u'5', u'CHHATTISGARH', u'99.19', u'15', u'0.15', u'18.29', u'49', u'0.49', u'2.96', u'595', u'6.00', u'4.81', u'6', u'GOA', u'5.07', u'0', u'0.00', u'0.00', u'0', u'0.00', u'0.00', u'59', u'11.64', u'0.48', u'7', u'GUJARAT', u'204.28', u'0', u'0.00', u'0.00', u'77', u'0.38', u'4.65', u'263', u'1.29', u'2.13', u'8', u'HARYANA', u'91.39', u'0', u'0.00', u'0.00', u'73', u'0.80', u'4.41', u'388', u'4.25', u'3.14', u'9', u'HIMACHAL', u'PRADESH', u'21.41', u'0', u'0.00', u'0.00', u'5', u'0.23', u'0.30', u'130', u'6.07', u'1.05', u'10', u'JAMMU', u'&', u'KASHMIR', u'44.47', u'0', u'0.00', u'0.00', u'11', u'0.25', u'0.66', u'25', u'0.56', u'0.20', u'11', u'JHARKHAND', u'129.81', u'1', u'0.01', u'1.22', u'11', u'0.08', u'0.66', u'23', u'0.18', u'0.19', u'12', u'KARNATAKA', u'194', u'4', u'0.02', u'4.88', u'64', u'0.33', u'3.86', u'270', u'1.39', u'2.18', u'13', u'KERALA', u'92.83', u'0', u'0.00', u'0.00', u'40', u'0.43', u'2.41', u'637', u'6.86', u'5.15', u'14', u'MADHYA', u'PRADESH', u'296.28', u'8', u'0.03', u'9.76', u'114', u'0.38', u'6.88', u'2112', u'7.13', u'17.08', u'15', u'MAHARASHTRA', u'373.7', u'6', u'0.02', u'7.32', u'191', u'0.51', u'11.53', u'1546', u'4.14', u'12.51', u'16', u'MANIPUR', u'9.53', u'0', u'0.00', u'0.00', u'3', u'0.31', u'0.18', u'40', u'4.20', u'0.32', u'17', u'MEGHALAYA', u'9.91', u'1', u'0.10', u'1.22', u'8', u'0.81', u'0.48', u'112', u'11.30', u'0.91', u'18', u'MIZORAM', u'3.65', u'0', u'0.00', u'0.00', u'2', u'0.55', u'0.12', u'57', u'15.62', u'0.46', u'19', u'NAGALAND', u'6.58', u'0', u'0.00', u'0.00', u'0', u'0.00', u'0.00', u'3', u'0.46', u'0.02', u'20', u'ODISHA', u'139.27', u'0', u'0.00', u'0.00', u'28', u'0.20', u'1.69', u'509', u'3.65', u'4.12', u'21', u'PUNJAB', u'86.86', u'7', u'0.08', u'8.54', u'30', u'0.35', u'1.81', u'490', u'5.64', u'3.96', u'22', u'RAJASTHAN', u'281.32', u'8', u'0.03', u'9.76', u'64', u'0.23', u'3.86', u'892', u'3.17', u'7.22', u'23', u'SIKKIM', u'2.02', u'0', u'0.00', u'0.00', u'0', u'0.00', u'0.00', u'25', u'12.38', u'0.20', u'24', u'TAMIL', u'NADU', u'200.91', u'13', u'0.06', u'15.85', u'83', u'0.41', u'5.01', u'419', u'2.09', u'3.39', u'25', u'TRIPURA', u'12.25', u'0', u'0.00', u'0.00', u'9', u'0.73', u'0.54', u'43', u'3.51', u'0.35', u'26', u'UTTAR', u'PRADESH', u'871.34', u'10', u'0.01', u'12.20', u'482', u'0.55', u'29.09', u'1381', u'1.58', u'11.17', u'27', u'UTTARAKHAND', u'38.01', u'0', u'0.00', u'0.00', u'7', u'0.18', u'0.42', u'32', u'0.84', u'0.26', u'28', u'WEST', u'BENGAL', u'291.15', u'0', u'0.00', u'0.00', u'68', u'0.23', u'4.10', u'377', u'1.29', u'3.05', u'', u'TOTAL', u'(STATES)', u'', u'4336.04', u'80', u'0.02', u'97.56', u'1621', u'0.37', u'97.83', u'11549', u'2.66', u'93.42', u'UNION', u'TERRITORIES', u'', u'', u'', u'', u'', u'', u'', u'', u'', u'', u'29', u'A', u'&', u'N', u'ISLANDS', u'1.33', u'0', u'0.00', u'0.00', u'0', u'0.00', u'0.00', u'21', u'15.79', u'0.17', u'30', u'CHANDIGARH', u'3.83', u'0', u'0.00', u'0.00', u'2', u'0.52', u'0.12', u'19', u'4.96', u'0.15', u'31', u'D', u'&', u'N', u'HAVELI', u'1.26', u'0', u'0.00', u'0.00', u'0', u'0.00', u'0.00', u'4', u'3.17', u'0.03', u'32', u'DAMAN', u'&', u'DIU', u'0.89', u'0', u'0.00', u'0.00', u'1', u'1.12', u'0.06', u'4', u'4.49', u'0.03', u'33', u'DELHI', u'54.43', u'2', u'0.04', u'2.44', u'33', u'0.61', u'1.99', u'757', u'13.91', u'6.12', u'34', u'LAKSHADWEEP', u'0.18', u'0', u'0.00', u'0.00', u'0', u'0.00', u'0.00', u'0', u'0.00', u'0.00', u'35', u'PUDUCHERRY', u'4.47', u'0', u'0.00', u'0.00', u'0', u'0.00', u'0.00', u'9', u'2.01', u'0.07', u'', u'TOTAL', u'(UTs)', u'', u'66.39', u'2', u'0.03', u'2.44', u'36', u'0.54', u'2.17', u'814', u'12.26', u'6.58', u'', u'TOTAL', u'(ALL-INDIA)', u'', u'4402.43', u'82', u'0.02', u'100.00', u'1657', u'0.38', u'100.00', u'12363', u'2.81', u'100.00', u'', u'', u'', u'', u'', u'']\n"
     ]
    }
   ],
   "source": [
    "table=table.split(' ')\n",
    "print table"
   ]
  },
  {
   "cell_type": "code",
   "execution_count": 13,
   "metadata": {
    "collapsed": true
   },
   "outputs": [],
   "source": [
    "while True:\n",
    "    try:\n",
    "        table.remove('PRADESH')\n",
    "    except:\n",
    "        break"
   ]
  },
  {
   "cell_type": "code",
   "execution_count": 24,
   "metadata": {
    "collapsed": false
   },
   "outputs": [
    {
     "ename": "ValueError",
     "evalue": "list.remove(x): x not in list",
     "output_type": "error",
     "traceback": [
      "\u001b[0;31m---------------------------------------------------------------------------\u001b[0m",
      "\u001b[0;31mValueError\u001b[0m                                Traceback (most recent call last)",
      "\u001b[0;32m<ipython-input-24-c3818f15c0e5>\u001b[0m in \u001b[0;36m<module>\u001b[0;34m()\u001b[0m\n\u001b[1;32m      1\u001b[0m \u001b[0mtable\u001b[0m\u001b[0;34m.\u001b[0m\u001b[0mremove\u001b[0m\u001b[0;34m(\u001b[0m\u001b[0;34m'&'\u001b[0m\u001b[0;34m)\u001b[0m\u001b[0;34m\u001b[0m\u001b[0m\n\u001b[0;32m----> 2\u001b[0;31m \u001b[0mtable\u001b[0m\u001b[0;34m.\u001b[0m\u001b[0mremove\u001b[0m\u001b[0;34m(\u001b[0m\u001b[0;34m'KASHMIR'\u001b[0m\u001b[0;34m)\u001b[0m\u001b[0;34m\u001b[0m\u001b[0m\n\u001b[0m\u001b[1;32m      3\u001b[0m \u001b[0mtable\u001b[0m\u001b[0;34m.\u001b[0m\u001b[0mremove\u001b[0m\u001b[0;34m(\u001b[0m\u001b[0;34m'WEST'\u001b[0m\u001b[0;34m)\u001b[0m\u001b[0;34m\u001b[0m\u001b[0m\n\u001b[1;32m      4\u001b[0m \u001b[0mtable\u001b[0m\u001b[0;34m.\u001b[0m\u001b[0mremove\u001b[0m\u001b[0;34m(\u001b[0m\u001b[0;34m'NADU'\u001b[0m\u001b[0;34m)\u001b[0m\u001b[0;34m\u001b[0m\u001b[0m\n",
      "\u001b[0;31mValueError\u001b[0m: list.remove(x): x not in list"
     ]
    }
   ],
   "source": [
    "table.remove('&')\n",
    "table.remove('KASHMIR')\n",
    "table.remove('WEST')"
   ]
  },
  {
   "cell_type": "code",
   "execution_count": 25,
   "metadata": {
    "collapsed": true
   },
   "outputs": [],
   "source": [
    "table.remove('NADU')"
   ]
  },
  {
   "cell_type": "code",
   "execution_count": 28,
   "metadata": {
    "collapsed": false
   },
   "outputs": [
    {
     "name": "stdout",
     "output_type": "stream",
     "text": [
      "[u'ANDHRA', u'266.23', u'7', u'0.03', u'8.54', u'87', u'0.33', u'5.25', u'770', u'2.89', u'6.23', u'2']\n",
      "[u'ARUNACHAL', u'4.63', u'0', u'0.00', u'0.00', u'0', u'0.00', u'0.00', u'35', u'7.56', u'0.28', u'3']\n",
      "[u'ASSAM', u'117.5', u'0', u'0.00', u'0.00', u'14', u'0.12', u'0.84', u'230', u'1.96', u'1.86', u'4']\n",
      "[u'BIHAR', u'442.45', u'0', u'0.00', u'0.00', u'101', u'0.23', u'6.10', u'86', u'0.19', u'0.70', u'5']\n",
      "[u'CHHATTISGARH', u'99.19', u'15', u'0.15', u'18.29', u'49', u'0.49', u'2.96', u'595', u'6.00', u'4.81', u'6']\n",
      "[u'GOA', u'5.07', u'0', u'0.00', u'0.00', u'0', u'0.00', u'0.00', u'59', u'11.64', u'0.48', u'7']\n",
      "[u'GUJARAT', u'204.28', u'0', u'0.00', u'0.00', u'77', u'0.38', u'4.65', u'263', u'1.29', u'2.13', u'8']\n",
      "[u'HARYANA', u'91.39', u'0', u'0.00', u'0.00', u'73', u'0.80', u'4.41', u'388', u'4.25', u'3.14', u'9']\n",
      "[u'HIMACHAL', u'21.41', u'0', u'0.00', u'0.00', u'5', u'0.23', u'0.30', u'130', u'6.07', u'1.05', u'10']\n",
      "[u'JAMMU', u'44.47', u'0', u'0.00', u'0.00', u'11', u'0.25', u'0.66', u'25', u'0.56', u'0.20', u'11']\n",
      "[u'JHARKHAND', u'129.81', u'1', u'0.01', u'1.22', u'11', u'0.08', u'0.66', u'23', u'0.18', u'0.19', u'12']\n",
      "[u'KARNATAKA', u'194', u'4', u'0.02', u'4.88', u'64', u'0.33', u'3.86', u'270', u'1.39', u'2.18', u'13']\n",
      "[u'KERALA', u'92.83', u'0', u'0.00', u'0.00', u'40', u'0.43', u'2.41', u'637', u'6.86', u'5.15', u'14']\n",
      "[u'MADHYA', u'296.28', u'8', u'0.03', u'9.76', u'114', u'0.38', u'6.88', u'2112', u'7.13', u'17.08', u'15']\n",
      "[u'MAHARASHTRA', u'373.7', u'6', u'0.02', u'7.32', u'191', u'0.51', u'11.53', u'1546', u'4.14', u'12.51', u'16']\n",
      "[u'MANIPUR', u'9.53', u'0', u'0.00', u'0.00', u'3', u'0.31', u'0.18', u'40', u'4.20', u'0.32', u'17']\n",
      "[u'MEGHALAYA', u'9.91', u'1', u'0.10', u'1.22', u'8', u'0.81', u'0.48', u'112', u'11.30', u'0.91', u'18']\n",
      "[u'MIZORAM', u'3.65', u'0', u'0.00', u'0.00', u'2', u'0.55', u'0.12', u'57', u'15.62', u'0.46', u'19']\n",
      "[u'NAGALAND', u'6.58', u'0', u'0.00', u'0.00', u'0', u'0.00', u'0.00', u'3', u'0.46', u'0.02', u'20']\n",
      "[u'ODISHA', u'139.27', u'0', u'0.00', u'0.00', u'28', u'0.20', u'1.69', u'509', u'3.65', u'4.12', u'21']\n",
      "[u'PUNJAB', u'86.86', u'7', u'0.08', u'8.54', u'30', u'0.35', u'1.81', u'490', u'5.64', u'3.96', u'22']\n",
      "[u'RAJASTHAN', u'281.32', u'8', u'0.03', u'9.76', u'64', u'0.23', u'3.86', u'892', u'3.17', u'7.22', u'23']\n",
      "[u'SIKKIM', u'2.02', u'0', u'0.00', u'0.00', u'0', u'0.00', u'0.00', u'25', u'12.38', u'0.20', u'24']\n",
      "[u'TAMIL', u'200.91', u'13', u'0.06', u'15.85', u'83', u'0.41', u'5.01', u'419', u'2.09', u'3.39', u'25']\n",
      "[u'TRIPURA', u'12.25', u'0', u'0.00', u'0.00', u'9', u'0.73', u'0.54', u'43', u'3.51', u'0.35', u'26']\n",
      "[u'UTTAR', u'871.34', u'10', u'0.01', u'12.20', u'482', u'0.55', u'29.09', u'1381', u'1.58', u'11.17', u'27']\n",
      "[u'UTTARAKHAND', u'38.01', u'0', u'0.00', u'0.00', u'7', u'0.18', u'0.42', u'32', u'0.84', u'0.26', u'28']\n",
      "[u'BENGAL', u'291.15', u'0', u'0.00', u'0.00', u'68', u'0.23', u'4.10', u'377', u'1.29', u'3.05', u'']\n"
     ]
    }
   ],
   "source": [
    "w=0\n",
    "for i in range(28):\n",
    "    print table[w:12+w]\n",
    "    w+=12\n",
    "    "
   ]
  },
  {
   "cell_type": "code",
   "execution_count": null,
   "metadata": {
    "collapsed": true
   },
   "outputs": [],
   "source": []
  },
  {
   "cell_type": "code",
   "execution_count": null,
   "metadata": {
    "collapsed": true
   },
   "outputs": [],
   "source": []
  },
  {
   "cell_type": "code",
   "execution_count": null,
   "metadata": {
    "collapsed": true
   },
   "outputs": [],
   "source": []
  },
  {
   "cell_type": "code",
   "execution_count": null,
   "metadata": {
    "collapsed": true
   },
   "outputs": [],
   "source": []
  },
  {
   "cell_type": "code",
   "execution_count": null,
   "metadata": {
    "collapsed": true
   },
   "outputs": [],
   "source": []
  },
  {
   "cell_type": "code",
   "execution_count": null,
   "metadata": {
    "collapsed": true
   },
   "outputs": [],
   "source": []
  },
  {
   "cell_type": "code",
   "execution_count": null,
   "metadata": {
    "collapsed": true
   },
   "outputs": [],
   "source": []
  },
  {
   "cell_type": "code",
   "execution_count": null,
   "metadata": {
    "collapsed": true
   },
   "outputs": [],
   "source": []
  },
  {
   "cell_type": "code",
   "execution_count": null,
   "metadata": {
    "collapsed": true
   },
   "outputs": [],
   "source": []
  },
  {
   "cell_type": "code",
   "execution_count": null,
   "metadata": {
    "collapsed": true
   },
   "outputs": [],
   "source": []
  },
  {
   "cell_type": "code",
   "execution_count": null,
   "metadata": {
    "collapsed": true
   },
   "outputs": [],
   "source": []
  },
  {
   "cell_type": "code",
   "execution_count": null,
   "metadata": {
    "collapsed": true
   },
   "outputs": [],
   "source": []
  },
  {
   "cell_type": "code",
   "execution_count": null,
   "metadata": {
    "collapsed": true
   },
   "outputs": [],
   "source": []
  },
  {
   "cell_type": "code",
   "execution_count": null,
   "metadata": {
    "collapsed": true
   },
   "outputs": [],
   "source": []
  },
  {
   "cell_type": "code",
   "execution_count": null,
   "metadata": {
    "collapsed": true
   },
   "outputs": [],
   "source": []
  }
 ],
 "metadata": {
  "anaconda-cloud": {},
  "kernelspec": {
   "display_name": "Python [default]",
   "language": "python",
   "name": "python2"
  },
  "language_info": {
   "codemirror_mode": {
    "name": "ipython",
    "version": 2
   },
   "file_extension": ".py",
   "mimetype": "text/x-python",
   "name": "python",
   "nbconvert_exporter": "python",
   "pygments_lexer": "ipython2",
   "version": "2.7.12"
  }
 },
 "nbformat": 4,
 "nbformat_minor": 2
}
